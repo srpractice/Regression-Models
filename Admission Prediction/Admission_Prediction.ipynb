{
 "cells": [
  {
   "cell_type": "markdown",
   "id": "functioning-nomination",
   "metadata": {},
   "source": [
    "## Import necessary libraries"
   ]
  },
  {
   "cell_type": "code",
   "execution_count": 1,
   "id": "intense-grass",
   "metadata": {
    "ExecuteTime": {
     "end_time": "2021-06-10T17:13:09.867381Z",
     "start_time": "2021-06-10T17:13:08.531781Z"
    }
   },
   "outputs": [],
   "source": [
    "import pandas as pd\n",
    "import numpy as np\n",
    "from sklearn.preprocessing import StandardScaler\n",
    "from sklearn.linear_model import Ridge, Lasso, RidgeCV, LassoCV, ElasticNet, ElasticNetCV, LinearRegression\n",
    "from sklearn.model_selection import train_test_split\n",
    "import statsmodels.api as sm\n",
    "import matplotlib.pyplot as plt\n",
    "import seaborn as sns\n",
    "import pickle\n",
    "import warnings\n",
    "warnings.simplefilter(action = 'ignore', category = FutureWarning)"
   ]
  },
  {
   "cell_type": "code",
   "execution_count": 2,
   "id": "fixed-confidence",
   "metadata": {
    "ExecuteTime": {
     "end_time": "2021-06-10T17:13:09.883397Z",
     "start_time": "2021-06-10T17:13:09.871839Z"
    }
   },
   "outputs": [],
   "source": [
    "# Let's create the function to create adjusted R-Squared\n",
    "def adj_r2(x, y):\n",
    "    r2 = regression.score(x, y)\n",
    "    n = x.shape[0]\n",
    "    p = x.shape[1]\n",
    "    adjusted_r2 = 1 - ((1 - r2) * (n - 1)) / (n - p - 1)\n",
    "    return adjusted_r2"
   ]
  },
  {
   "cell_type": "markdown",
   "id": "nutritional-asbestos",
   "metadata": {},
   "source": [
    "## Load the dataset"
   ]
  },
  {
   "cell_type": "code",
   "execution_count": 3,
   "id": "interracial-thomson",
   "metadata": {
    "ExecuteTime": {
     "end_time": "2021-06-10T17:13:09.914784Z",
     "start_time": "2021-06-10T17:13:09.884015Z"
    }
   },
   "outputs": [
    {
     "data": {
      "text/html": [
       "<div>\n",
       "<style scoped>\n",
       "    .dataframe tbody tr th:only-of-type {\n",
       "        vertical-align: middle;\n",
       "    }\n",
       "\n",
       "    .dataframe tbody tr th {\n",
       "        vertical-align: top;\n",
       "    }\n",
       "\n",
       "    .dataframe thead th {\n",
       "        text-align: right;\n",
       "    }\n",
       "</style>\n",
       "<table border=\"1\" class=\"dataframe\">\n",
       "  <thead>\n",
       "    <tr style=\"text-align: right;\">\n",
       "      <th></th>\n",
       "      <th>Serial No.</th>\n",
       "      <th>GRE Score</th>\n",
       "      <th>TOEFL Score</th>\n",
       "      <th>University Rating</th>\n",
       "      <th>SOP</th>\n",
       "      <th>LOR</th>\n",
       "      <th>CGPA</th>\n",
       "      <th>Research</th>\n",
       "      <th>Chance of Admit</th>\n",
       "    </tr>\n",
       "  </thead>\n",
       "  <tbody>\n",
       "    <tr>\n",
       "      <th>0</th>\n",
       "      <td>1</td>\n",
       "      <td>337.0</td>\n",
       "      <td>118.0</td>\n",
       "      <td>4.0</td>\n",
       "      <td>4.5</td>\n",
       "      <td>4.5</td>\n",
       "      <td>9.65</td>\n",
       "      <td>1</td>\n",
       "      <td>0.92</td>\n",
       "    </tr>\n",
       "    <tr>\n",
       "      <th>1</th>\n",
       "      <td>2</td>\n",
       "      <td>324.0</td>\n",
       "      <td>107.0</td>\n",
       "      <td>4.0</td>\n",
       "      <td>4.0</td>\n",
       "      <td>4.5</td>\n",
       "      <td>8.87</td>\n",
       "      <td>1</td>\n",
       "      <td>0.76</td>\n",
       "    </tr>\n",
       "    <tr>\n",
       "      <th>2</th>\n",
       "      <td>3</td>\n",
       "      <td>NaN</td>\n",
       "      <td>104.0</td>\n",
       "      <td>3.0</td>\n",
       "      <td>3.0</td>\n",
       "      <td>3.5</td>\n",
       "      <td>8.00</td>\n",
       "      <td>1</td>\n",
       "      <td>0.72</td>\n",
       "    </tr>\n",
       "    <tr>\n",
       "      <th>3</th>\n",
       "      <td>4</td>\n",
       "      <td>322.0</td>\n",
       "      <td>110.0</td>\n",
       "      <td>3.0</td>\n",
       "      <td>3.5</td>\n",
       "      <td>2.5</td>\n",
       "      <td>8.67</td>\n",
       "      <td>1</td>\n",
       "      <td>0.80</td>\n",
       "    </tr>\n",
       "    <tr>\n",
       "      <th>4</th>\n",
       "      <td>5</td>\n",
       "      <td>314.0</td>\n",
       "      <td>103.0</td>\n",
       "      <td>2.0</td>\n",
       "      <td>2.0</td>\n",
       "      <td>3.0</td>\n",
       "      <td>8.21</td>\n",
       "      <td>0</td>\n",
       "      <td>0.65</td>\n",
       "    </tr>\n",
       "  </tbody>\n",
       "</table>\n",
       "</div>"
      ],
      "text/plain": [
       "   Serial No.  GRE Score  TOEFL Score  University Rating  SOP  LOR  CGPA  \\\n",
       "0           1      337.0        118.0                4.0  4.5  4.5  9.65   \n",
       "1           2      324.0        107.0                4.0  4.0  4.5  8.87   \n",
       "2           3        NaN        104.0                3.0  3.0  3.5  8.00   \n",
       "3           4      322.0        110.0                3.0  3.5  2.5  8.67   \n",
       "4           5      314.0        103.0                2.0  2.0  3.0  8.21   \n",
       "\n",
       "   Research  Chance of Admit  \n",
       "0         1             0.92  \n",
       "1         1             0.76  \n",
       "2         1             0.72  \n",
       "3         1             0.80  \n",
       "4         0             0.65  "
      ]
     },
     "execution_count": 3,
     "metadata": {},
     "output_type": "execute_result"
    }
   ],
   "source": [
    "df = pd.read_csv('Admission_Prediction.csv')\n",
    "df.head()"
   ]
  },
  {
   "cell_type": "code",
   "execution_count": 4,
   "id": "christian-dinner",
   "metadata": {
    "ExecuteTime": {
     "end_time": "2021-06-10T17:13:09.945703Z",
     "start_time": "2021-06-10T17:13:09.915782Z"
    }
   },
   "outputs": [
    {
     "data": {
      "text/html": [
       "<div>\n",
       "<style scoped>\n",
       "    .dataframe tbody tr th:only-of-type {\n",
       "        vertical-align: middle;\n",
       "    }\n",
       "\n",
       "    .dataframe tbody tr th {\n",
       "        vertical-align: top;\n",
       "    }\n",
       "\n",
       "    .dataframe thead th {\n",
       "        text-align: right;\n",
       "    }\n",
       "</style>\n",
       "<table border=\"1\" class=\"dataframe\">\n",
       "  <thead>\n",
       "    <tr style=\"text-align: right;\">\n",
       "      <th></th>\n",
       "      <th>Serial No.</th>\n",
       "      <th>GRE Score</th>\n",
       "      <th>TOEFL Score</th>\n",
       "      <th>University Rating</th>\n",
       "      <th>SOP</th>\n",
       "      <th>LOR</th>\n",
       "      <th>CGPA</th>\n",
       "      <th>Research</th>\n",
       "      <th>Chance of Admit</th>\n",
       "    </tr>\n",
       "  </thead>\n",
       "  <tbody>\n",
       "    <tr>\n",
       "      <th>count</th>\n",
       "      <td>500.000000</td>\n",
       "      <td>485.000000</td>\n",
       "      <td>490.000000</td>\n",
       "      <td>485.000000</td>\n",
       "      <td>500.000000</td>\n",
       "      <td>500.00000</td>\n",
       "      <td>500.000000</td>\n",
       "      <td>500.000000</td>\n",
       "      <td>500.00000</td>\n",
       "    </tr>\n",
       "    <tr>\n",
       "      <th>mean</th>\n",
       "      <td>250.500000</td>\n",
       "      <td>316.558763</td>\n",
       "      <td>107.187755</td>\n",
       "      <td>3.121649</td>\n",
       "      <td>3.374000</td>\n",
       "      <td>3.48400</td>\n",
       "      <td>8.576440</td>\n",
       "      <td>0.560000</td>\n",
       "      <td>0.72174</td>\n",
       "    </tr>\n",
       "    <tr>\n",
       "      <th>std</th>\n",
       "      <td>144.481833</td>\n",
       "      <td>11.274704</td>\n",
       "      <td>6.112899</td>\n",
       "      <td>1.146160</td>\n",
       "      <td>0.991004</td>\n",
       "      <td>0.92545</td>\n",
       "      <td>0.604813</td>\n",
       "      <td>0.496884</td>\n",
       "      <td>0.14114</td>\n",
       "    </tr>\n",
       "    <tr>\n",
       "      <th>min</th>\n",
       "      <td>1.000000</td>\n",
       "      <td>290.000000</td>\n",
       "      <td>92.000000</td>\n",
       "      <td>1.000000</td>\n",
       "      <td>1.000000</td>\n",
       "      <td>1.00000</td>\n",
       "      <td>6.800000</td>\n",
       "      <td>0.000000</td>\n",
       "      <td>0.34000</td>\n",
       "    </tr>\n",
       "    <tr>\n",
       "      <th>25%</th>\n",
       "      <td>125.750000</td>\n",
       "      <td>308.000000</td>\n",
       "      <td>103.000000</td>\n",
       "      <td>2.000000</td>\n",
       "      <td>2.500000</td>\n",
       "      <td>3.00000</td>\n",
       "      <td>8.127500</td>\n",
       "      <td>0.000000</td>\n",
       "      <td>0.63000</td>\n",
       "    </tr>\n",
       "    <tr>\n",
       "      <th>50%</th>\n",
       "      <td>250.500000</td>\n",
       "      <td>317.000000</td>\n",
       "      <td>107.000000</td>\n",
       "      <td>3.000000</td>\n",
       "      <td>3.500000</td>\n",
       "      <td>3.50000</td>\n",
       "      <td>8.560000</td>\n",
       "      <td>1.000000</td>\n",
       "      <td>0.72000</td>\n",
       "    </tr>\n",
       "    <tr>\n",
       "      <th>75%</th>\n",
       "      <td>375.250000</td>\n",
       "      <td>325.000000</td>\n",
       "      <td>112.000000</td>\n",
       "      <td>4.000000</td>\n",
       "      <td>4.000000</td>\n",
       "      <td>4.00000</td>\n",
       "      <td>9.040000</td>\n",
       "      <td>1.000000</td>\n",
       "      <td>0.82000</td>\n",
       "    </tr>\n",
       "    <tr>\n",
       "      <th>max</th>\n",
       "      <td>500.000000</td>\n",
       "      <td>340.000000</td>\n",
       "      <td>120.000000</td>\n",
       "      <td>5.000000</td>\n",
       "      <td>5.000000</td>\n",
       "      <td>5.00000</td>\n",
       "      <td>9.920000</td>\n",
       "      <td>1.000000</td>\n",
       "      <td>0.97000</td>\n",
       "    </tr>\n",
       "  </tbody>\n",
       "</table>\n",
       "</div>"
      ],
      "text/plain": [
       "       Serial No.   GRE Score  TOEFL Score  University Rating         SOP  \\\n",
       "count  500.000000  485.000000   490.000000         485.000000  500.000000   \n",
       "mean   250.500000  316.558763   107.187755           3.121649    3.374000   \n",
       "std    144.481833   11.274704     6.112899           1.146160    0.991004   \n",
       "min      1.000000  290.000000    92.000000           1.000000    1.000000   \n",
       "25%    125.750000  308.000000   103.000000           2.000000    2.500000   \n",
       "50%    250.500000  317.000000   107.000000           3.000000    3.500000   \n",
       "75%    375.250000  325.000000   112.000000           4.000000    4.000000   \n",
       "max    500.000000  340.000000   120.000000           5.000000    5.000000   \n",
       "\n",
       "             LOR        CGPA    Research  Chance of Admit  \n",
       "count  500.00000  500.000000  500.000000        500.00000  \n",
       "mean     3.48400    8.576440    0.560000          0.72174  \n",
       "std      0.92545    0.604813    0.496884          0.14114  \n",
       "min      1.00000    6.800000    0.000000          0.34000  \n",
       "25%      3.00000    8.127500    0.000000          0.63000  \n",
       "50%      3.50000    8.560000    1.000000          0.72000  \n",
       "75%      4.00000    9.040000    1.000000          0.82000  \n",
       "max      5.00000    9.920000    1.000000          0.97000  "
      ]
     },
     "execution_count": 4,
     "metadata": {},
     "output_type": "execute_result"
    }
   ],
   "source": [
    "df.describe(include = 'all')"
   ]
  },
  {
   "cell_type": "markdown",
   "id": "integral-reviewer",
   "metadata": {},
   "source": [
    "## Checking the missing values"
   ]
  },
  {
   "cell_type": "code",
   "execution_count": 5,
   "id": "certified-mailing",
   "metadata": {
    "ExecuteTime": {
     "end_time": "2021-06-10T17:13:09.960661Z",
     "start_time": "2021-06-10T17:13:09.946699Z"
    }
   },
   "outputs": [
    {
     "data": {
      "text/plain": [
       "Serial No.            0\n",
       "GRE Score            15\n",
       "TOEFL Score          10\n",
       "University Rating    15\n",
       "SOP                   0\n",
       "LOR                   0\n",
       "CGPA                  0\n",
       "Research              0\n",
       "Chance of Admit       0\n",
       "dtype: int64"
      ]
     },
     "execution_count": 5,
     "metadata": {},
     "output_type": "execute_result"
    }
   ],
   "source": [
    "df.isna().sum()"
   ]
  },
  {
   "cell_type": "markdown",
   "id": "organizational-ethnic",
   "metadata": {},
   "source": [
    "## Handling the missing value"
   ]
  },
  {
   "cell_type": "code",
   "execution_count": 6,
   "id": "violent-newspaper",
   "metadata": {
    "ExecuteTime": {
     "end_time": "2021-06-10T17:13:09.976641Z",
     "start_time": "2021-06-10T17:13:09.961659Z"
    }
   },
   "outputs": [],
   "source": [
    "# Categorical column\n",
    "df['University Rating'] = df['University Rating'].fillna(df['University Rating'].mode()[0])\n",
    "\n",
    "# Numerical value\n",
    "df['GRE Score'] = df['GRE Score'].fillna(df['GRE Score'].mean())\n",
    "df['TOEFL Score'] = df['TOEFL Score'].fillna(df['TOEFL Score'].mean())"
   ]
  },
  {
   "cell_type": "code",
   "execution_count": 7,
   "id": "visible-allergy",
   "metadata": {
    "ExecuteTime": {
     "end_time": "2021-06-10T17:13:09.992600Z",
     "start_time": "2021-06-10T17:13:09.978635Z"
    }
   },
   "outputs": [
    {
     "data": {
      "text/plain": [
       "Serial No.           0\n",
       "GRE Score            0\n",
       "TOEFL Score          0\n",
       "University Rating    0\n",
       "SOP                  0\n",
       "LOR                  0\n",
       "CGPA                 0\n",
       "Research             0\n",
       "Chance of Admit      0\n",
       "dtype: int64"
      ]
     },
     "execution_count": 7,
     "metadata": {},
     "output_type": "execute_result"
    }
   ],
   "source": [
    "df.isna().sum()"
   ]
  },
  {
   "cell_type": "markdown",
   "id": "pressing-messaging",
   "metadata": {},
   "source": [
    "- Now the data looks good and there are no null/missing values.\n",
    "- Also, the first column is Serial numbers, so we don not need that column. Let's drop that column."
   ]
  },
  {
   "cell_type": "code",
   "execution_count": 8,
   "id": "solid-confidentiality",
   "metadata": {
    "ExecuteTime": {
     "end_time": "2021-06-10T17:13:10.024513Z",
     "start_time": "2021-06-10T17:13:09.996588Z"
    }
   },
   "outputs": [
    {
     "data": {
      "text/html": [
       "<div>\n",
       "<style scoped>\n",
       "    .dataframe tbody tr th:only-of-type {\n",
       "        vertical-align: middle;\n",
       "    }\n",
       "\n",
       "    .dataframe tbody tr th {\n",
       "        vertical-align: top;\n",
       "    }\n",
       "\n",
       "    .dataframe thead th {\n",
       "        text-align: right;\n",
       "    }\n",
       "</style>\n",
       "<table border=\"1\" class=\"dataframe\">\n",
       "  <thead>\n",
       "    <tr style=\"text-align: right;\">\n",
       "      <th></th>\n",
       "      <th>GRE Score</th>\n",
       "      <th>TOEFL Score</th>\n",
       "      <th>University Rating</th>\n",
       "      <th>SOP</th>\n",
       "      <th>LOR</th>\n",
       "      <th>CGPA</th>\n",
       "      <th>Research</th>\n",
       "      <th>Chance of Admit</th>\n",
       "    </tr>\n",
       "  </thead>\n",
       "  <tbody>\n",
       "    <tr>\n",
       "      <th>0</th>\n",
       "      <td>337.000000</td>\n",
       "      <td>118.0</td>\n",
       "      <td>4.0</td>\n",
       "      <td>4.5</td>\n",
       "      <td>4.5</td>\n",
       "      <td>9.65</td>\n",
       "      <td>1</td>\n",
       "      <td>0.92</td>\n",
       "    </tr>\n",
       "    <tr>\n",
       "      <th>1</th>\n",
       "      <td>324.000000</td>\n",
       "      <td>107.0</td>\n",
       "      <td>4.0</td>\n",
       "      <td>4.0</td>\n",
       "      <td>4.5</td>\n",
       "      <td>8.87</td>\n",
       "      <td>1</td>\n",
       "      <td>0.76</td>\n",
       "    </tr>\n",
       "    <tr>\n",
       "      <th>2</th>\n",
       "      <td>316.558763</td>\n",
       "      <td>104.0</td>\n",
       "      <td>3.0</td>\n",
       "      <td>3.0</td>\n",
       "      <td>3.5</td>\n",
       "      <td>8.00</td>\n",
       "      <td>1</td>\n",
       "      <td>0.72</td>\n",
       "    </tr>\n",
       "    <tr>\n",
       "      <th>3</th>\n",
       "      <td>322.000000</td>\n",
       "      <td>110.0</td>\n",
       "      <td>3.0</td>\n",
       "      <td>3.5</td>\n",
       "      <td>2.5</td>\n",
       "      <td>8.67</td>\n",
       "      <td>1</td>\n",
       "      <td>0.80</td>\n",
       "    </tr>\n",
       "    <tr>\n",
       "      <th>4</th>\n",
       "      <td>314.000000</td>\n",
       "      <td>103.0</td>\n",
       "      <td>2.0</td>\n",
       "      <td>2.0</td>\n",
       "      <td>3.0</td>\n",
       "      <td>8.21</td>\n",
       "      <td>0</td>\n",
       "      <td>0.65</td>\n",
       "    </tr>\n",
       "  </tbody>\n",
       "</table>\n",
       "</div>"
      ],
      "text/plain": [
       "    GRE Score  TOEFL Score  University Rating  SOP  LOR  CGPA  Research  \\\n",
       "0  337.000000        118.0                4.0  4.5  4.5  9.65         1   \n",
       "1  324.000000        107.0                4.0  4.0  4.5  8.87         1   \n",
       "2  316.558763        104.0                3.0  3.0  3.5  8.00         1   \n",
       "3  322.000000        110.0                3.0  3.5  2.5  8.67         1   \n",
       "4  314.000000        103.0                2.0  2.0  3.0  8.21         0   \n",
       "\n",
       "   Chance of Admit  \n",
       "0             0.92  \n",
       "1             0.76  \n",
       "2             0.72  \n",
       "3             0.80  \n",
       "4             0.65  "
      ]
     },
     "execution_count": 8,
     "metadata": {},
     "output_type": "execute_result"
    }
   ],
   "source": [
    "df = df.drop(columns = ['Serial No.'])\n",
    "df.head()"
   ]
  },
  {
   "cell_type": "markdown",
   "id": "fatty-affiliation",
   "metadata": {},
   "source": [
    "## Data Visualization"
   ]
  },
  {
   "cell_type": "markdown",
   "id": "impressive-former",
   "metadata": {},
   "source": [
    "- Let's visualize the data and analyze the relationship between independent and dependent variables:"
   ]
  },
  {
   "cell_type": "markdown",
   "id": "portuguese-operations",
   "metadata": {},
   "source": [
    "### Check the distribution of the data for every column"
   ]
  },
  {
   "cell_type": "code",
   "execution_count": 9,
   "id": "union-angel",
   "metadata": {
    "ExecuteTime": {
     "end_time": "2021-06-10T17:13:11.063563Z",
     "start_time": "2021-06-10T17:13:10.025510Z"
    }
   },
   "outputs": [
    {
     "data": {
      "image/png": "[encoded data removed]",
      "text/plain": [
       "<Figure size 1440x2160 with 8 Axes>"
      ]
     },
     "metadata": {},
     "output_type": "display_data"
    }
   ],
   "source": [
    "plt.figure(figsize = (20, 30), facecolor = 'cyan')\n",
    "plt_no = 1\n",
    "for column in df:\n",
    "    if plt_no <= 15:\n",
    "        ax = plt.subplot(5, 3, plt_no)\n",
    "        sns.distplot(df[column])\n",
    "        plt.xlabel(column, fontsize = 20)\n",
    "    plt_no += 1\n",
    "#plt.tight_layout()\n",
    "plt.show()"
   ]
  },
  {
   "cell_type": "markdown",
   "id": "located-owner",
   "metadata": {},
   "source": [
    "- Data distribution looks decent enough and there doesn't seem to be any skewness."
   ]
  },
  {
   "cell_type": "markdown",
   "id": "referenced-beach",
   "metadata": {},
   "source": [
    "### Relationship between the independent  variables and dependent variable"
   ]
  },
  {
   "cell_type": "code",
   "execution_count": 10,
   "id": "bizarre-receptor",
   "metadata": {
    "ExecuteTime": {
     "end_time": "2021-06-10T17:13:11.079517Z",
     "start_time": "2021-06-10T17:13:11.064532Z"
    }
   },
   "outputs": [],
   "source": [
    "y = df['Chance of Admit']\n",
    "X = df.iloc[:, :-1]"
   ]
  },
  {
   "cell_type": "code",
   "execution_count": 11,
   "id": "quality-wales",
   "metadata": {
    "ExecuteTime": {
     "end_time": "2021-06-10T17:13:11.753717Z",
     "start_time": "2021-06-10T17:13:11.080490Z"
    }
   },
   "outputs": [
    {
     "data": {
      "image/png": "[encoded data removed]",
      "text/plain": [
       "<Figure size 1440x2160 with 7 Axes>"
      ]
     },
     "metadata": {},
     "output_type": "display_data"
    }
   ],
   "source": [
    "plt.figure(figsize = (20, 30), facecolor = 'cyan')\n",
    "plt_no = 1\n",
    "for column in X:\n",
    "    if plt_no <= 10:\n",
    "        ax = plt.subplot(5, 2, plt_no)\n",
    "        plt.scatter(X[column], y)\n",
    "        plt.xlabel(column, fontsize = 20)\n",
    "        plt.ylabel('Chance of Admit', fontsize = 20)\n",
    "    plt_no += 1\n",
    "plt.show()"
   ]
  },
  {
   "cell_type": "markdown",
   "id": "honest-lease",
   "metadata": {},
   "source": [
    "- The relationship between the dependent and independent variables looks fairly linear. \n",
    "- Thus, linearity assumption is satisfied."
   ]
  },
  {
   "cell_type": "markdown",
   "id": "dental-parks",
   "metadata": {},
   "source": [
    "### Check Multicollinearity"
   ]
  },
  {
   "cell_type": "code",
   "execution_count": 12,
   "id": "informed-glass",
   "metadata": {
    "ExecuteTime": {
     "end_time": "2021-06-10T17:13:11.769651Z",
     "start_time": "2021-06-10T17:13:11.754686Z"
    }
   },
   "outputs": [],
   "source": [
    "scaler = StandardScaler()\n",
    "X_scaled = scaler.fit_transform(X)"
   ]
  },
  {
   "cell_type": "code",
   "execution_count": 13,
   "id": "maritime-ridge",
   "metadata": {
    "ExecuteTime": {
     "end_time": "2021-06-10T17:13:11.801560Z",
     "start_time": "2021-06-10T17:13:11.773640Z"
    }
   },
   "outputs": [],
   "source": [
    "from statsmodels.stats.outliers_influence import variance_inflation_factor\n",
    "variables = X_scaled\n",
    "\n",
    "# we create a new data frame which will include all the VIFs\n",
    "# note that each variable has its own variance inflation factor as this measure is variable specific \n",
    "# (not model specific)\n",
    "# we do not include categorical values for mulitcollinearity as they do not provide much information as \n",
    "# numerical ones do\n",
    "vif = pd.DataFrame()\n",
    "\n",
    "# here we make use of the variance_inflation_factor, which will basically output the respective VIFs \n",
    "vif[\"VIF\"] = [variance_inflation_factor(variables, i) for i in range(variables.shape[1])]\n",
    "# Finally, I like to include names so it is easier to explore the result\n",
    "vif[\"Features\"] = X.columns"
   ]
  },
  {
   "cell_type": "code",
   "execution_count": 14,
   "id": "electrical-carrier",
   "metadata": {
    "ExecuteTime": {
     "end_time": "2021-06-10T17:13:11.817518Z",
     "start_time": "2021-06-10T17:13:11.802558Z"
    }
   },
   "outputs": [
    {
     "data": {
      "text/html": [
       "<div>\n",
       "<style scoped>\n",
       "    .dataframe tbody tr th:only-of-type {\n",
       "        vertical-align: middle;\n",
       "    }\n",
       "\n",
       "    .dataframe tbody tr th {\n",
       "        vertical-align: top;\n",
       "    }\n",
       "\n",
       "    .dataframe thead th {\n",
       "        text-align: right;\n",
       "    }\n",
       "</style>\n",
       "<table border=\"1\" class=\"dataframe\">\n",
       "  <thead>\n",
       "    <tr style=\"text-align: right;\">\n",
       "      <th></th>\n",
       "      <th>VIF</th>\n",
       "      <th>Features</th>\n",
       "    </tr>\n",
       "  </thead>\n",
       "  <tbody>\n",
       "    <tr>\n",
       "      <th>0</th>\n",
       "      <td>4.152735</td>\n",
       "      <td>GRE Score</td>\n",
       "    </tr>\n",
       "    <tr>\n",
       "      <th>1</th>\n",
       "      <td>3.793345</td>\n",
       "      <td>TOEFL Score</td>\n",
       "    </tr>\n",
       "    <tr>\n",
       "      <th>2</th>\n",
       "      <td>2.517272</td>\n",
       "      <td>University Rating</td>\n",
       "    </tr>\n",
       "    <tr>\n",
       "      <th>3</th>\n",
       "      <td>2.776393</td>\n",
       "      <td>SOP</td>\n",
       "    </tr>\n",
       "    <tr>\n",
       "      <th>4</th>\n",
       "      <td>2.037449</td>\n",
       "      <td>LOR</td>\n",
       "    </tr>\n",
       "    <tr>\n",
       "      <th>5</th>\n",
       "      <td>4.654369</td>\n",
       "      <td>CGPA</td>\n",
       "    </tr>\n",
       "    <tr>\n",
       "      <th>6</th>\n",
       "      <td>1.459411</td>\n",
       "      <td>Research</td>\n",
       "    </tr>\n",
       "  </tbody>\n",
       "</table>\n",
       "</div>"
      ],
      "text/plain": [
       "        VIF           Features\n",
       "0  4.152735          GRE Score\n",
       "1  3.793345        TOEFL Score\n",
       "2  2.517272  University Rating\n",
       "3  2.776393                SOP\n",
       "4  2.037449                LOR\n",
       "5  4.654369               CGPA\n",
       "6  1.459411           Research"
      ]
     },
     "execution_count": 14,
     "metadata": {},
     "output_type": "execute_result"
    }
   ],
   "source": [
    "vif"
   ]
  },
  {
   "cell_type": "markdown",
   "id": "manufactured-montreal",
   "metadata": {},
   "source": [
    "- Here we have the correlation values for all the features.\n",
    "- A VIF value > 5 means a very severe multicollinearity. We don't have any VIF greater than 5.\n",
    "- There is no multicollinearity among the independent variables."
   ]
  },
  {
   "cell_type": "code",
   "execution_count": 15,
   "id": "pursuant-algeria",
   "metadata": {
    "ExecuteTime": {
     "end_time": "2021-06-10T17:13:11.833475Z",
     "start_time": "2021-06-10T17:13:11.818516Z"
    }
   },
   "outputs": [],
   "source": [
    "x_train, x_test, y_train, y_test = train_test_split(X_scaled, y, test_size = 0.25, random_state = 28)"
   ]
  },
  {
   "cell_type": "markdown",
   "id": "passing-audio",
   "metadata": {},
   "source": [
    "## Perform Regression"
   ]
  },
  {
   "cell_type": "code",
   "execution_count": 16,
   "id": "indie-brighton",
   "metadata": {
    "ExecuteTime": {
     "end_time": "2021-06-10T17:13:11.849432Z",
     "start_time": "2021-06-10T17:13:11.834474Z"
    }
   },
   "outputs": [],
   "source": [
    "regression = LinearRegression()"
   ]
  },
  {
   "cell_type": "code",
   "execution_count": 17,
   "id": "caring-validity",
   "metadata": {
    "ExecuteTime": {
     "end_time": "2021-06-10T17:13:11.865390Z",
     "start_time": "2021-06-10T17:13:11.850430Z"
    }
   },
   "outputs": [
    {
     "data": {
      "text/plain": [
       "LinearRegression()"
      ]
     },
     "execution_count": 17,
     "metadata": {},
     "output_type": "execute_result"
    }
   ],
   "source": [
    "regression.fit(x_train, y_train)"
   ]
  },
  {
   "cell_type": "code",
   "execution_count": 18,
   "id": "thick-voluntary",
   "metadata": {
    "ExecuteTime": {
     "end_time": "2021-06-10T17:13:11.881347Z",
     "start_time": "2021-06-10T17:13:11.866388Z"
    }
   },
   "outputs": [],
   "source": [
    "# saving the model to the local file system\n",
    "filename = 'finalized_model.pickle'\n",
    "pickle.dump(regression, open(filename, 'wb'))"
   ]
  },
  {
   "cell_type": "code",
   "execution_count": 19,
   "id": "blessed-explanation",
   "metadata": {
    "ExecuteTime": {
     "end_time": "2021-06-10T17:13:11.897305Z",
     "start_time": "2021-06-10T17:13:11.882345Z"
    }
   },
   "outputs": [
    {
     "data": {
      "text/plain": [
       "0.8217843324405705"
      ]
     },
     "execution_count": 19,
     "metadata": {},
     "output_type": "execute_result"
    }
   ],
   "source": [
    "regression.score(x_train, y_train)"
   ]
  },
  {
   "cell_type": "code",
   "execution_count": 20,
   "id": "infectious-lounge",
   "metadata": {
    "ExecuteTime": {
     "end_time": "2021-06-10T17:13:11.913263Z",
     "start_time": "2021-06-10T17:13:11.898302Z"
    }
   },
   "outputs": [
    {
     "data": {
      "text/plain": [
       "0.8183851235225432"
      ]
     },
     "execution_count": 20,
     "metadata": {},
     "output_type": "execute_result"
    }
   ],
   "source": [
    "adj_r2(x_train, y_train)"
   ]
  },
  {
   "cell_type": "markdown",
   "id": "furnished-convert",
   "metadata": {},
   "source": [
    "- Our r2 score is 82.17 % and adj r2 is 81.83 % for our training.\n",
    "\n",
    "Let's check how well model fits the test data"
   ]
  },
  {
   "cell_type": "code",
   "execution_count": 21,
   "id": "absent-health",
   "metadata": {
    "ExecuteTime": {
     "end_time": "2021-06-10T17:13:11.929219Z",
     "start_time": "2021-06-10T17:13:11.914261Z"
    }
   },
   "outputs": [
    {
     "data": {
      "text/plain": [
       "0.8078278020390542"
      ]
     },
     "execution_count": 21,
     "metadata": {},
     "output_type": "execute_result"
    }
   ],
   "source": [
    "regression.score(x_test, y_test)"
   ]
  },
  {
   "cell_type": "code",
   "execution_count": 22,
   "id": "wound-lawrence",
   "metadata": {
    "ExecuteTime": {
     "end_time": "2021-06-10T17:13:11.945177Z",
     "start_time": "2021-06-10T17:13:11.932212Z"
    }
   },
   "outputs": [
    {
     "data": {
      "text/plain": [
       "0.7963303201097669"
      ]
     },
     "execution_count": 22,
     "metadata": {},
     "output_type": "execute_result"
    }
   ],
   "source": [
    "adj_r2(x_test, y_test)"
   ]
  },
  {
   "cell_type": "markdown",
   "id": "proved-interaction",
   "metadata": {},
   "source": [
    "So it looks like our model r2 score is less on the test data.\n",
    "\n",
    "Let's see if our model is overfitting our training data."
   ]
  },
  {
   "cell_type": "markdown",
   "id": "cross-graduation",
   "metadata": {},
   "source": [
    "## Regularization Techniques\n"
   ]
  },
  {
   "cell_type": "markdown",
   "id": "rocky-heater",
   "metadata": {},
   "source": [
    "### Lasso Regularization\n",
    "- LassoCV will return best alpha and coefficients after performing 10 cross validations\n"
   ]
  },
  {
   "cell_type": "code",
   "execution_count": 23,
   "id": "first-detector",
   "metadata": {
    "ExecuteTime": {
     "end_time": "2021-06-10T17:32:14.225678Z",
     "start_time": "2021-06-10T17:32:14.132952Z"
    }
   },
   "outputs": [
    {
     "data": {
      "text/plain": [
       "LassoCV(cv=10, max_iter=100000, normalize=True)"
      ]
     },
     "execution_count": 23,
     "metadata": {},
     "output_type": "execute_result"
    }
   ],
   "source": [
    "lasso_cv = LassoCV(alphas = None, cv = 10, max_iter = 100000, normalize = True)\n",
    "lasso_cv.fit(x_train, y_train)"
   ]
  },
  {
   "cell_type": "code",
   "execution_count": 24,
   "id": "spectacular-forge",
   "metadata": {
    "ExecuteTime": {
     "end_time": "2021-06-10T17:32:45.461841Z",
     "start_time": "2021-06-10T17:32:45.443866Z"
    }
   },
   "outputs": [
    {
     "data": {
      "text/plain": [
       "6.623704018254393e-06"
      ]
     },
     "execution_count": 24,
     "metadata": {},
     "output_type": "execute_result"
    }
   ],
   "source": [
    "# best alpha parameter\n",
    "alpha = lasso_cv.alpha_\n",
    "alpha"
   ]
  },
  {
   "cell_type": "code",
   "execution_count": 25,
   "id": "retained-hungarian",
   "metadata": {
    "ExecuteTime": {
     "end_time": "2021-06-10T17:33:09.274596Z",
     "start_time": "2021-06-10T17:33:09.268608Z"
    }
   },
   "outputs": [
    {
     "data": {
      "text/plain": [
       "Lasso(alpha=6.623704018254393e-06)"
      ]
     },
     "execution_count": 25,
     "metadata": {},
     "output_type": "execute_result"
    }
   ],
   "source": [
    "#now that we have best parameter, let's use Lasso regression and see how well our data has fitted before\n",
    "lasso_reg = Lasso(alpha)\n",
    "lasso_reg.fit(x_train, y_train)"
   ]
  },
  {
   "cell_type": "code",
   "execution_count": 26,
   "id": "heard-torture",
   "metadata": {
    "ExecuteTime": {
     "end_time": "2021-06-10T17:33:50.461725Z",
     "start_time": "2021-06-10T17:33:50.455741Z"
    }
   },
   "outputs": [
    {
     "data": {
      "text/plain": [
       "0.8078345015544183"
      ]
     },
     "execution_count": 26,
     "metadata": {},
     "output_type": "execute_result"
    }
   ],
   "source": [
    "lasso_reg.score(x_test, y_test)"
   ]
  },
  {
   "cell_type": "markdown",
   "id": "general-liver",
   "metadata": {},
   "source": [
    "- Our r2_score for test data (80.78 %) comes same as before using regularization. \n",
    "- So, it is fair to say our OLS model did not overfit the data."
   ]
  },
  {
   "cell_type": "markdown",
   "id": "assisted-recovery",
   "metadata": {},
   "source": [
    "### Ridge Regularization\n",
    "- RidgeCV will return best alpha and coefficients after performing 10 cross validations. \n",
    "- We will pass an array of random numbers for ridgeCV to select best alpha from them"
   ]
  },
  {
   "cell_type": "code",
   "execution_count": 29,
   "id": "mature-revolution",
   "metadata": {
    "ExecuteTime": {
     "end_time": "2021-06-10T17:38:29.779042Z",
     "start_time": "2021-06-10T17:38:29.091894Z"
    }
   },
   "outputs": [
    {
     "data": {
      "text/plain": [
       "RidgeCV(alphas=array([6.0471701 , 4.01275783, 8.56471211, 8.87216833, 5.64689016,\n",
       "       8.79355195, 1.39676778, 3.09359046, 8.79663716, 4.70966657,\n",
       "       9.68437663, 6.81471389, 4.29021652, 6.62791805, 9.03051963,\n",
       "       1.86009211, 6.04556545, 6.18894608, 8.78239537, 1.97189446,\n",
       "       6.96235745, 5.23192875, 3.64070225, 9.03930387, 2.80046395,\n",
       "       1.66263042, 3.18178824, 9.26080576, 7.66730417, 8.45514776,\n",
       "       0.18508753, 6.88339035, 7.03270065, 4.48221194, 1.36851895,\n",
       "       4.09148173, 6.46401721, 4.28646216, 4.3802782 , 7.26341565,\n",
       "       2.47230593, 6.83191931, 7.83320002, 6.04484818, 7.32518956,\n",
       "       4.27422211, 3.72715462, 6.54872518, 2.03624181, 7.94454877]),\n",
       "        cv=10, normalize=True)"
      ]
     },
     "execution_count": 29,
     "metadata": {},
     "output_type": "execute_result"
    }
   ],
   "source": [
    "alphas = np.random.uniform(low = 0, high = 10, size = (50, ))\n",
    "ridge_cv = RidgeCV(alphas = alphas, cv = 10, normalize = True)\n",
    "ridge_cv.fit(x_train, y_train)"
   ]
  },
  {
   "cell_type": "code",
   "execution_count": 30,
   "id": "disabled-management",
   "metadata": {
    "ExecuteTime": {
     "end_time": "2021-06-10T17:38:52.059507Z",
     "start_time": "2021-06-10T17:38:52.051528Z"
    }
   },
   "outputs": [
    {
     "data": {
      "text/plain": [
       "0.18508752949790708"
      ]
     },
     "execution_count": 30,
     "metadata": {},
     "output_type": "execute_result"
    }
   ],
   "source": [
    "ridge_cv.alpha_"
   ]
  },
  {
   "cell_type": "code",
   "execution_count": 31,
   "id": "spiritual-animal",
   "metadata": {
    "ExecuteTime": {
     "end_time": "2021-06-10T17:39:55.533577Z",
     "start_time": "2021-06-10T17:39:55.511663Z"
    }
   },
   "outputs": [
    {
     "data": {
      "text/plain": [
       "Ridge(alpha=0.18508752949790708)"
      ]
     },
     "execution_count": 31,
     "metadata": {},
     "output_type": "execute_result"
    }
   ],
   "source": [
    "ridge_reg = Ridge(alpha = ridge_cv.alpha_)\n",
    "ridge_reg.fit(x_train, y_train)"
   ]
  },
  {
   "cell_type": "code",
   "execution_count": 32,
   "id": "stopped-bracelet",
   "metadata": {
    "ExecuteTime": {
     "end_time": "2021-06-10T17:40:15.112521Z",
     "start_time": "2021-06-10T17:40:15.096556Z"
    }
   },
   "outputs": [
    {
     "data": {
      "text/plain": [
       "0.8078862662819232"
      ]
     },
     "execution_count": 32,
     "metadata": {},
     "output_type": "execute_result"
    }
   ],
   "source": [
    "ridge_reg.score(x_test, y_test)"
   ]
  },
  {
   "cell_type": "markdown",
   "id": "loved-tractor",
   "metadata": {},
   "source": [
    "- We got the same r2 square using Ridge regression as well. \n",
    "- So, it's safe to say there is no overfitting."
   ]
  },
  {
   "cell_type": "markdown",
   "id": "royal-season",
   "metadata": {},
   "source": [
    "### ElasticNet"
   ]
  },
  {
   "cell_type": "code",
   "execution_count": 33,
   "id": "armed-awareness",
   "metadata": {
    "ExecuteTime": {
     "end_time": "2021-06-10T17:42:01.822680Z",
     "start_time": "2021-06-10T17:42:01.733939Z"
    }
   },
   "outputs": [
    {
     "data": {
      "text/plain": [
       "ElasticNetCV(cv=10)"
      ]
     },
     "execution_count": 33,
     "metadata": {},
     "output_type": "execute_result"
    }
   ],
   "source": [
    "elastic_cv = ElasticNetCV(alphas = None, cv = 10)\n",
    "elastic_cv.fit(x_train, y_train)"
   ]
  },
  {
   "cell_type": "code",
   "execution_count": 34,
   "id": "variable-editing",
   "metadata": {
    "ExecuteTime": {
     "end_time": "2021-06-10T17:42:16.750712Z",
     "start_time": "2021-06-10T17:42:16.742733Z"
    }
   },
   "outputs": [
    {
     "data": {
      "text/plain": [
       "0.0002598674954351098"
      ]
     },
     "execution_count": 34,
     "metadata": {},
     "output_type": "execute_result"
    }
   ],
   "source": [
    "elastic_cv.alpha_"
   ]
  },
  {
   "cell_type": "code",
   "execution_count": 36,
   "id": "going-tuition",
   "metadata": {
    "ExecuteTime": {
     "end_time": "2021-06-10T17:43:04.226586Z",
     "start_time": "2021-06-10T17:43:04.216613Z"
    }
   },
   "outputs": [
    {
     "data": {
      "text/plain": [
       "0.5"
      ]
     },
     "execution_count": 36,
     "metadata": {},
     "output_type": "execute_result"
    }
   ],
   "source": [
    "# l1_ratio gives how close the model is to L1 regularization, below value indicates we are giving equal\n",
    "# preference to L1 and L2\n",
    "elastic_cv.l1_ratio"
   ]
  },
  {
   "cell_type": "code",
   "execution_count": 38,
   "id": "recorded-sending",
   "metadata": {
    "ExecuteTime": {
     "end_time": "2021-06-10T17:43:56.746721Z",
     "start_time": "2021-06-10T17:43:56.730788Z"
    }
   },
   "outputs": [
    {
     "data": {
      "text/plain": [
       "ElasticNet(alpha=0.0002598674954351098)"
      ]
     },
     "execution_count": 38,
     "metadata": {},
     "output_type": "execute_result"
    }
   ],
   "source": [
    "elasticnet_reg = ElasticNet(alpha = elastic_cv.alpha_, l1_ratio = elastic_cv.l1_ratio)\n",
    "elasticnet_reg.fit(x_train, y_train)"
   ]
  },
  {
   "cell_type": "code",
   "execution_count": 39,
   "id": "spoken-convention",
   "metadata": {
    "ExecuteTime": {
     "end_time": "2021-06-10T17:44:11.243439Z",
     "start_time": "2021-06-10T17:44:11.226461Z"
    }
   },
   "outputs": [
    {
     "data": {
      "text/plain": [
       "0.8079841679973137"
      ]
     },
     "execution_count": 39,
     "metadata": {},
     "output_type": "execute_result"
    }
   ],
   "source": [
    "elasticnet_reg.score(x_test, y_test)"
   ]
  },
  {
   "cell_type": "code",
   "execution_count": null,
   "id": "technological-luther",
   "metadata": {},
   "outputs": [],
   "source": []
  },
  {
   "cell_type": "code",
   "execution_count": null,
   "id": "framed-ending",
   "metadata": {},
   "outputs": [],
   "source": []
  }
 ],
 "metadata": {
  "kernelspec": {
   "display_name": "Python 3",
   "language": "python",
   "name": "python3"
  },
  "language_info": {
   "codemirror_mode": {
    "name": "ipython",
    "version": 3
   },
   "file_extension": ".py",
   "mimetype": "text/x-python",
   "name": "python",
   "nbconvert_exporter": "python",
   "pygments_lexer": "ipython3",
   "version": "3.8.5"
  },
  "toc": {
   "base_numbering": 1,
   "nav_menu": {},
   "number_sections": true,
   "sideBar": true,
   "skip_h1_title": false,
   "title_cell": "Table of Contents",
   "title_sidebar": "Contents",
   "toc_cell": false,
   "toc_position": {},
   "toc_section_display": true,
   "toc_window_display": false
  },
  "varInspector": {
   "cols": {
    "lenName": 16,
    "lenType": 16,
    "lenVar": 40
   },
   "kernels_config": {
    "python": {
     "delete_cmd_postfix": "",
     "delete_cmd_prefix": "del ",
     "library": "var_list.py",
     "varRefreshCmd": "print(var_dic_list())"
    },
    "r": {
     "delete_cmd_postfix": ") ",
     "delete_cmd_prefix": "rm(",
     "library": "var_list.r",
     "varRefreshCmd": "cat(var_dic_list()) "
    }
   },
   "types_to_exclude": [
    "module",
    "function",
    "builtin_function_or_method",
    "instance",
    "_Feature"
   ],
   "window_display": false
  }
 },
 "nbformat": 4,
 "nbformat_minor": 5
}
